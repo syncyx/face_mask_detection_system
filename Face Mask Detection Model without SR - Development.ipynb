{
 "cells": [
  {
   "cell_type": "code",
   "execution_count": 1,
   "metadata": {},
   "outputs": [],
   "source": [
    "import cv2\n",
    "import numpy as np\n",
    "import pandas as pd\n",
    "\n",
    "from imutils import paths\n",
    "from matplotlib import pyplot as plt\n",
    "from tqdm.notebook import tqdm\n",
    "from sklearn.metrics import confusion_matrix\n",
    "from sklearn.model_selection import train_test_split\n",
    "from sklearn.preprocessing import LabelBinarizer\n",
    "from tensorflow.keras.applications import MobileNetV2, ResNet50, EfficientNetB0\n",
    "from tensorflow.keras.applications.mobilenet_v2 import preprocess_input\n",
    "from tensorflow.keras.layers import AveragePooling2D, Flatten, Dense, Dropout, Input\n",
    "from tensorflow.keras.models import Model\n",
    "from tensorflow.keras.optimizers import Adam\n",
    "from tensorflow.keras.preprocessing.image import load_img, img_to_array, ImageDataGenerator\n",
    "from tensorflow.keras.utils import to_categorical"
   ]
  },
  {
   "cell_type": "code",
   "execution_count": 2,
   "metadata": {},
   "outputs": [],
   "source": [
    "def load_image(path, label):\n",
    "    data = []\n",
    "    labels = []\n",
    "    \n",
    "    imagePaths = list(paths.list_images(path))\n",
    "    # loop over the image paths\n",
    "    for imagePath in tqdm(imagePaths, total = len(imagePaths), desc = label + ' image data load'):\n",
    "        # checking\n",
    "        image = cv2.imread(imagePath)\n",
    "        if type(image) is np.ndarray:\n",
    "            # load the input image (224x224) and preprocess it\n",
    "            image = load_img(imagePath, target_size = (224, 224))\n",
    "            image = img_to_array(image)\n",
    "            image = preprocess_input(image)\n",
    "\n",
    "            # update the data and labels lists, respectively\n",
    "            data.append(image)\n",
    "            labels.append(label)\n",
    "    \n",
    "    return data, labels"
   ]
  },
  {
   "cell_type": "code",
   "execution_count": 3,
   "metadata": {},
   "outputs": [],
   "source": [
    "# construct the head of the model that will be placed on top of the base model\n",
    "def createHeadModel(baseModel):\n",
    "    headModel = baseModel.output\n",
    "    headModel = AveragePooling2D(pool_size=(7, 7))(headModel)\n",
    "    headModel = Flatten(name=\"flatten\")(headModel)\n",
    "    headModel = Dense(128, activation=\"relu\")(headModel)\n",
    "    headModel = Dropout(0.5)(headModel)\n",
    "    headModel = Dense(2, activation=\"softmax\")(headModel)\n",
    "    \n",
    "    return headModel"
   ]
  },
  {
   "cell_type": "code",
   "execution_count": 4,
   "metadata": {},
   "outputs": [],
   "source": [
    "def plot_hist(hist):\n",
    "    plt.plot(hist.history[\"accuracy\"])\n",
    "    plt.plot(hist.history[\"val_accuracy\"])\n",
    "    plt.title(\"model accuracy\")\n",
    "    plt.ylabel(\"accuracy\")\n",
    "    plt.xlabel(\"epoch\")\n",
    "    plt.legend([\"train\", \"validation\"], loc=\"upper left\")\n",
    "    plt.show()"
   ]
  },
  {
   "cell_type": "code",
   "execution_count": 5,
   "metadata": {},
   "outputs": [],
   "source": [
    "def classification_result(test_Y, pred_Y):\n",
    "    cm = confusion_matrix(test_Y, pred_Y)\n",
    "    (TN, FP, FN, TP) = cm.flatten()\n",
    "\n",
    "    # calculate accuracy\n",
    "    acc = (float (TP + TN) / float(TP + TN + FP + FN))\n",
    "\n",
    "    # calculate misclassification\n",
    "    misclass = 1- acc\n",
    "\n",
    "    # calculate the sensitivity\n",
    "    sensitivity = (TP / float(TP + FN))\n",
    "\n",
    "    # calculate the specificity\n",
    "    specificity = (TN / float(TN + FP))\n",
    "\n",
    "    # calculate precision\n",
    "    precision = (TP / float(TP + FP))\n",
    "\n",
    "    # calculate f_1 score\n",
    "    f1 = 2 * ((precision * sensitivity) / (precision + sensitivity))\n",
    "\n",
    "    print('-'*55)\n",
    "    print(f'Accuracy : {round(acc, 2)}')\n",
    "    print(f'Misclassification: {round(misclass, 2)}')\n",
    "    print(f'Sensitivity : {round(sensitivity, 2)}')\n",
    "    print(f'Specificity : {round(specificity, 2)}')\n",
    "    print(f'Precision : {round(precision, 2)}')\n",
    "    print(f'f1-Score : {round(f1, 2)}')\n",
    "    print('-'*55)\n",
    "\n",
    "    # Assigning columns names\n",
    "    cm_df = pd.DataFrame(cm,\n",
    "                         columns = ['Predicted Negative', 'Predicted Positive'],\n",
    "                         index = ['Actual Negative', 'Actual Positive'])\n",
    "\n",
    "    print(cm_df)"
   ]
  },
  {
   "cell_type": "code",
   "execution_count": 6,
   "metadata": {},
   "outputs": [
    {
     "data": {
      "application/vnd.jupyter.widget-view+json": {
       "model_id": "be12fcc19f8245b197d81aa84022032b",
       "version_major": 2,
       "version_minor": 0
      },
      "text/plain": [
       "HBox(children=(HTML(value='with_mask image data load'), FloatProgress(value=0.0, max=2994.0), HTML(value='')))"
      ]
     },
     "metadata": {},
     "output_type": "display_data"
    },
    {
     "name": "stdout",
     "output_type": "stream",
     "text": [
      "\n"
     ]
    },
    {
     "data": {
      "application/vnd.jupyter.widget-view+json": {
       "model_id": "c7389db229554c64ad7965105839e0f9",
       "version_major": 2,
       "version_minor": 0
      },
      "text/plain": [
       "HBox(children=(HTML(value='without_mask image data load'), FloatProgress(value=0.0, max=2994.0), HTML(value=''…"
      ]
     },
     "metadata": {},
     "output_type": "display_data"
    },
    {
     "name": "stdout",
     "output_type": "stream",
     "text": [
      "\n"
     ]
    }
   ],
   "source": [
    "# load image data\n",
    "img_data = []\n",
    "img_labels = []\n",
    "\n",
    "data, labels = load_image(r'./dataset/Image/with_mask', 'with_mask')\n",
    "img_data += data\n",
    "img_labels += labels\n",
    "\n",
    "data, labels = load_image(r'./dataset/Image/without_mask', 'without_mask')\n",
    "img_data += data\n",
    "img_labels += labels"
   ]
  },
  {
   "cell_type": "code",
   "execution_count": 7,
   "metadata": {},
   "outputs": [],
   "source": [
    "# convert the img_data and img_labels to NumPy arrays\n",
    "img_data = np.array(img_data, dtype = \"float32\")\n",
    "img_labels = np.array(img_labels)\n",
    "\n",
    "# perform one-hot encoding on the labels\n",
    "lb = LabelBinarizer()\n",
    "img_labels = lb.fit_transform(img_labels)\n",
    "img_labels = to_categorical(img_labels)"
   ]
  },
  {
   "cell_type": "code",
   "execution_count": 8,
   "metadata": {},
   "outputs": [],
   "source": [
    "# partition the data into training and testing splits using 80% of\n",
    "# the data for training and the remaining 20% for testing\n",
    "trainX, testX, trainY, testY = train_test_split(img_data, img_labels, test_size = 0.20, stratify = img_labels, random_state = 42)"
   ]
  },
  {
   "cell_type": "code",
   "execution_count": 9,
   "metadata": {},
   "outputs": [
    {
     "name": "stdout",
     "output_type": "stream",
     "text": [
      "WARNING:tensorflow:`input_shape` is undefined or non-square, or `rows` is not in [96, 128, 160, 192, 224]. Weights for input shape (224, 224) will be loaded as the default.\n",
      "[INFO] Compiling MobileNetV2 model...\n",
      "[INFO] Completed!\n",
      "[INFO] Compiling EfficientNetB0 model...\n",
      "[INFO] Completed!\n",
      "[INFO] Compiling ResNet50 model...\n",
      "[INFO] Completed!\n"
     ]
    }
   ],
   "source": [
    "models = {\n",
    "    # load the MobileNetV2 network, ensuring the head FC layer sets are left off\n",
    "    \"MobileNetV2\": {\n",
    "        \"base_model\": MobileNetV2(weights = \"imagenet\", include_top = False, input_tensor = Input(shape = (224, 224, 3))),\n",
    "        \"INIT_LR\": 1e-4,\n",
    "        \"EPOCHS\": 20,\n",
    "        \"BS\": 32,\n",
    "        \"model\": None\n",
    "    },\n",
    "    # load the EfficientNetB0 network, ensuring the head FC layer sets are left off\n",
    "    \"EfficientNetB0\": {\n",
    "        \"base_model\": EfficientNetB0(weights = \"imagenet\", include_top = False, input_tensor = Input(shape = (224, 224, 3))),\n",
    "        \"INIT_LR\": 1e-4,\n",
    "        \"EPOCHS\": 20,\n",
    "        \"BS\": 32,\n",
    "        \"model\": None\n",
    "    },\n",
    "    # load the EfficientNetB0 network, ensuring the head FC layer sets are left off\n",
    "    \"ResNet50\": {\n",
    "        \"base_model\": ResNet50(weights = \"imagenet\", include_top = False, input_tensor = Input(shape = (224, 224, 3))),\n",
    "        \"INIT_LR\": 1e-4,\n",
    "        \"EPOCHS\": 20,\n",
    "        \"BS\": 32,\n",
    "        \"model\": None\n",
    "    }\n",
    "}\n",
    "\n",
    "for model_key in models:\n",
    "    baseModel = models[model_key][\"base_model\"]\n",
    "    headModel = createHeadModel(baseModel)\n",
    "    \n",
    "    # place the head FC model on top of the base model (this will become the actual model we will train)\n",
    "    model = Model(inputs = baseModel.input, outputs = headModel)\n",
    "    \n",
    "    # loop over all layers in the base model and freeze them so they will\n",
    "    # *not* be updated during the first training process\n",
    "    for layer in baseModel.layers:\n",
    "        layer.trainable = False\n",
    "    \n",
    "    # initialize the initial learning rate, number of epochs to train for,\n",
    "    # and batch size\n",
    "    INIT_LR = models[model_key][\"INIT_LR\"]\n",
    "    EPOCHS  = models[model_key][\"EPOCHS\"]\n",
    "    BS      = models[model_key][\"BS\"]\n",
    "    \n",
    "    # compile our model\n",
    "    print(\"[INFO] Compiling\", model_key, \"model...\")\n",
    "    opt = Adam(learning_rate = INIT_LR, decay = INIT_LR / EPOCHS)\n",
    "    model.compile(loss = \"binary_crossentropy\", optimizer = opt, metrics = [\"accuracy\"])\n",
    "    models[model_key][\"model\"] = model\n",
    "    print(\"[INFO] Completed!\")"
   ]
  },
  {
   "cell_type": "code",
   "execution_count": 10,
   "metadata": {},
   "outputs": [],
   "source": [
    "# construct the training image generator for data augmentation\n",
    "imageDataGenerate = ImageDataGenerator(rotation_range = 20, \n",
    "                                       zoom_range = 0.15,\n",
    "                                       width_shift_range = 0.2,\n",
    "                                       height_shift_range = 0.2,\n",
    "                                       shear_range = 0.15,\n",
    "                                       horizontal_flip = True,\n",
    "                                       fill_mode = \"nearest\")"
   ]
  },
  {
   "cell_type": "code",
   "execution_count": 11,
   "metadata": {},
   "outputs": [
    {
     "name": "stdout",
     "output_type": "stream",
     "text": [
      "[INFO] training MobileNetV2 head...\n",
      "Epoch 1/20\n",
      "149/149 [==============================] - 162s 909ms/step - loss: 0.3294 - accuracy: 0.8876 - val_loss: 0.1502 - val_accuracy: 0.9499\n",
      "Epoch 2/20\n",
      "149/149 [==============================] - 126s 847ms/step - loss: 0.1537 - accuracy: 0.9491 - val_loss: 0.1192 - val_accuracy: 0.9508\n",
      "Epoch 3/20\n",
      "149/149 [==============================] - 129s 866ms/step - loss: 0.1226 - accuracy: 0.9615 - val_loss: 0.0984 - val_accuracy: 0.9633\n",
      "Epoch 4/20\n",
      "149/149 [==============================] - 132s 885ms/step - loss: 0.1052 - accuracy: 0.9641 - val_loss: 0.0878 - val_accuracy: 0.9716\n",
      "Epoch 5/20\n",
      "149/149 [==============================] - 130s 876ms/step - loss: 0.0928 - accuracy: 0.9699 - val_loss: 0.0904 - val_accuracy: 0.9633\n",
      "Epoch 6/20\n",
      "149/149 [==============================] - 132s 883ms/step - loss: 0.0826 - accuracy: 0.9741 - val_loss: 0.0782 - val_accuracy: 0.9691\n",
      "Epoch 7/20\n",
      "149/149 [==============================] - 131s 882ms/step - loss: 0.0779 - accuracy: 0.9744 - val_loss: 0.0735 - val_accuracy: 0.9708\n",
      "Epoch 8/20\n",
      "149/149 [==============================] - 131s 879ms/step - loss: 0.0696 - accuracy: 0.9760 - val_loss: 0.0728 - val_accuracy: 0.9699\n",
      "Epoch 9/20\n",
      "149/149 [==============================] - 124s 830ms/step - loss: 0.0712 - accuracy: 0.9756 - val_loss: 0.0675 - val_accuracy: 0.9750\n",
      "Epoch 10/20\n",
      "149/149 [==============================] - 122s 819ms/step - loss: 0.0662 - accuracy: 0.9769 - val_loss: 0.0664 - val_accuracy: 0.9725\n",
      "Epoch 11/20\n",
      "149/149 [==============================] - 123s 822ms/step - loss: 0.0680 - accuracy: 0.9788 - val_loss: 0.0632 - val_accuracy: 0.9766\n",
      "Epoch 12/20\n",
      "149/149 [==============================] - 131s 882ms/step - loss: 0.0654 - accuracy: 0.9779 - val_loss: 0.0611 - val_accuracy: 0.9758\n",
      "Epoch 13/20\n",
      "149/149 [==============================] - 130s 871ms/step - loss: 0.0605 - accuracy: 0.9809 - val_loss: 0.0617 - val_accuracy: 0.9758\n",
      "Epoch 14/20\n",
      "149/149 [==============================] - 134s 896ms/step - loss: 0.0635 - accuracy: 0.9769 - val_loss: 0.0596 - val_accuracy: 0.9750\n",
      "Epoch 15/20\n",
      "149/149 [==============================] - 128s 860ms/step - loss: 0.0578 - accuracy: 0.9805 - val_loss: 0.0646 - val_accuracy: 0.9750\n",
      "Epoch 16/20\n",
      "149/149 [==============================] - 133s 891ms/step - loss: 0.0523 - accuracy: 0.9828 - val_loss: 0.0578 - val_accuracy: 0.9775\n",
      "Epoch 17/20\n",
      "149/149 [==============================] - 133s 892ms/step - loss: 0.0543 - accuracy: 0.9790 - val_loss: 0.0569 - val_accuracy: 0.9791\n",
      "Epoch 18/20\n",
      "149/149 [==============================] - 131s 877ms/step - loss: 0.0559 - accuracy: 0.9811 - val_loss: 0.0619 - val_accuracy: 0.9758\n",
      "Epoch 19/20\n",
      "149/149 [==============================] - 136s 913ms/step - loss: 0.0492 - accuracy: 0.9834 - val_loss: 0.0559 - val_accuracy: 0.9791\n",
      "Epoch 20/20\n",
      "149/149 [==============================] - 134s 896ms/step - loss: 0.0483 - accuracy: 0.9836 - val_loss: 0.0556 - val_accuracy: 0.9783\n",
      "[INFO] Completed!\n"
     ]
    }
   ],
   "source": [
    "# train the head of the network\n",
    "print(\"[INFO] training MobileNetV2 head...\")\n",
    "MobileNetV2_hist = models[\"MobileNetV2\"][\"model\"].fit(\n",
    "    imageDataGenerate.flow(trainX, trainY, batch_size = BS),\n",
    "    steps_per_epoch = len(trainX) // BS,\n",
    "    validation_data = (testX, testY),\n",
    "    validation_steps = len(testX) // BS,\n",
    "    epochs = EPOCHS)\n",
    "print(\"[INFO] Completed!\")"
   ]
  },
  {
   "cell_type": "code",
   "execution_count": 12,
   "metadata": {},
   "outputs": [
    {
     "data": {
      "image/png": "[encoded data removed]",
      "text/plain": [
       "<Figure size 432x288 with 1 Axes>"
      ]
     },
     "metadata": {
      "needs_background": "light"
     },
     "output_type": "display_data"
    }
   ],
   "source": [
    "plot_hist(MobileNetV2_hist)"
   ]
  },
  {
   "cell_type": "code",
   "execution_count": 13,
   "metadata": {},
   "outputs": [
    {
     "name": "stdout",
     "output_type": "stream",
     "text": [
      "[INFO] evaluating network...\n",
      "38/38 [==============================] - 23s 580ms/step\n",
      "[INFO] Completed!\n"
     ]
    }
   ],
   "source": [
    "# make predictions on the testing set\n",
    "print(\"[INFO] evaluating network...\")\n",
    "MobileNetV2_predIdxs = models[\"MobileNetV2\"][\"model\"].predict(testX, batch_size=BS)\n",
    "print(\"[INFO] Completed!\")\n",
    "\n",
    "# for each image in the testing set we need to find the index of the\n",
    "# label with corresponding largest predicted probability\n",
    "MobileNetV2_predIdxs = np.argmax(MobileNetV2_predIdxs, axis=1)"
   ]
  },
  {
   "cell_type": "code",
   "execution_count": 14,
   "metadata": {},
   "outputs": [
    {
     "name": "stdout",
     "output_type": "stream",
     "text": [
      "MobileNetV2\n",
      "-------------------------------------------------------\n",
      "Accuracy : 0.98\n",
      "Misclassification: 0.02\n",
      "Sensitivity : 0.97\n",
      "Specificity : 0.99\n",
      "Precision : 0.99\n",
      "f1-Score : 0.98\n",
      "-------------------------------------------------------\n",
      "                 Predicted Negative  Predicted Positive\n",
      "Actual Negative                 593                   6\n",
      "Actual Positive                  20                 579\n"
     ]
    }
   ],
   "source": [
    "print('MobileNetV2')\n",
    "classification_result(testY.argmax(axis = 1), MobileNetV2_predIdxs)"
   ]
  },
  {
   "cell_type": "code",
   "execution_count": 15,
   "metadata": {},
   "outputs": [
    {
     "name": "stdout",
     "output_type": "stream",
     "text": [
      "[INFO] training EfficientNetB0 head...\n",
      "Epoch 1/20\n",
      "149/149 [==============================] - 236s 2s/step - loss: 0.6977 - accuracy: 0.4996 - val_loss: 0.6928 - val_accuracy: 0.5025\n",
      "Epoch 2/20\n",
      "149/149 [==============================] - 223s 1s/step - loss: 0.6939 - accuracy: 0.5105 - val_loss: 0.6935 - val_accuracy: 0.5000\n",
      "Epoch 3/20\n",
      "149/149 [==============================] - 222s 1s/step - loss: 0.6948 - accuracy: 0.5044 - val_loss: 0.6933 - val_accuracy: 0.5008\n",
      "Epoch 4/20\n",
      "149/149 [==============================] - 225s 2s/step - loss: 0.6947 - accuracy: 0.4971 - val_loss: 0.6930 - val_accuracy: 0.5000\n",
      "Epoch 5/20\n",
      "149/149 [==============================] - 229s 2s/step - loss: 0.6938 - accuracy: 0.4922 - val_loss: 0.6928 - val_accuracy: 0.5000\n",
      "Epoch 6/20\n",
      "149/149 [==============================] - 228s 2s/step - loss: 0.6933 - accuracy: 0.4975 - val_loss: 0.6928 - val_accuracy: 0.5000\n",
      "Epoch 7/20\n",
      "149/149 [==============================] - 227s 2s/step - loss: 0.6930 - accuracy: 0.5084 - val_loss: 0.6932 - val_accuracy: 0.5000\n",
      "Epoch 8/20\n",
      "149/149 [==============================] - 260s 2s/step - loss: 0.6933 - accuracy: 0.5025 - val_loss: 0.6930 - val_accuracy: 0.5000\n",
      "Epoch 9/20\n",
      "149/149 [==============================] - 252s 2s/step - loss: 0.6931 - accuracy: 0.5034 - val_loss: 0.6929 - val_accuracy: 0.5067\n",
      "Epoch 10/20\n",
      "149/149 [==============================] - 231s 2s/step - loss: 0.6932 - accuracy: 0.5141 - val_loss: 0.6929 - val_accuracy: 0.5025\n",
      "Epoch 11/20\n",
      "149/149 [==============================] - 245s 2s/step - loss: 0.6937 - accuracy: 0.4981 - val_loss: 0.6931 - val_accuracy: 0.5000\n",
      "Epoch 12/20\n",
      "149/149 [==============================] - 231s 2s/step - loss: 0.6932 - accuracy: 0.4996 - val_loss: 0.6929 - val_accuracy: 0.5000\n",
      "Epoch 13/20\n",
      "149/149 [==============================] - 229s 2s/step - loss: 0.6934 - accuracy: 0.4971 - val_loss: 0.6930 - val_accuracy: 0.5000\n",
      "Epoch 14/20\n",
      "149/149 [==============================] - 229s 2s/step - loss: 0.6935 - accuracy: 0.4977 - val_loss: 0.6930 - val_accuracy: 0.4992\n",
      "Epoch 15/20\n",
      "149/149 [==============================] - 226s 2s/step - loss: 0.6933 - accuracy: 0.4935 - val_loss: 0.6931 - val_accuracy: 0.5058\n",
      "Epoch 16/20\n",
      "149/149 [==============================] - 231s 2s/step - loss: 0.6933 - accuracy: 0.4968 - val_loss: 0.6931 - val_accuracy: 0.5075\n",
      "Epoch 17/20\n",
      "149/149 [==============================] - 223s 1s/step - loss: 0.6932 - accuracy: 0.4985 - val_loss: 0.6929 - val_accuracy: 0.5008\n",
      "Epoch 18/20\n",
      "149/149 [==============================] - 236s 2s/step - loss: 0.6932 - accuracy: 0.5044 - val_loss: 0.6930 - val_accuracy: 0.5125\n",
      "Epoch 19/20\n",
      "149/149 [==============================] - 233s 2s/step - loss: 0.6929 - accuracy: 0.5223 - val_loss: 0.6933 - val_accuracy: 0.5000\n",
      "Epoch 20/20\n",
      "149/149 [==============================] - 231s 2s/step - loss: 0.6930 - accuracy: 0.5099 - val_loss: 0.6929 - val_accuracy: 0.5000\n",
      "[INFO] Completed!\n"
     ]
    }
   ],
   "source": [
    "# train the head of the network\n",
    "print(\"[INFO] training EfficientNetB0 head...\")\n",
    "EfficientNetB0_hist = models[\"EfficientNetB0\"][\"model\"].fit(\n",
    "    imageDataGenerate.flow(trainX, trainY, batch_size = BS),\n",
    "    steps_per_epoch = len(trainX) // BS,\n",
    "    validation_data = (testX, testY),\n",
    "    validation_steps = len(testX) // BS,\n",
    "    epochs = EPOCHS)\n",
    "print(\"[INFO] Completed!\")"
   ]
  },
  {
   "cell_type": "code",
   "execution_count": 16,
   "metadata": {},
   "outputs": [
    {
     "data": {
      "image/png": "[encoded data removed]",
      "text/plain": [
       "<Figure size 432x288 with 1 Axes>"
      ]
     },
     "metadata": {
      "needs_background": "light"
     },
     "output_type": "display_data"
    }
   ],
   "source": [
    "plot_hist(EfficientNetB0_hist)"
   ]
  },
  {
   "cell_type": "code",
   "execution_count": 17,
   "metadata": {},
   "outputs": [
    {
     "name": "stdout",
     "output_type": "stream",
     "text": [
      "[INFO] evaluating network...\n",
      "38/38 [==============================] - 46s 1s/step\n",
      "[INFO] Completed!\n"
     ]
    }
   ],
   "source": [
    "# make predictions on the testing set\n",
    "print(\"[INFO] evaluating network...\")\n",
    "EfficientNetB0_predIdxs = models[\"EfficientNetB0\"][\"model\"].predict(testX, batch_size=BS)\n",
    "print(\"[INFO] Completed!\")\n",
    "\n",
    "# for each image in the testing set we need to find the index of the\n",
    "# label with corresponding largest predicted probability\n",
    "EfficientNetB0_predIdxs = np.argmax(EfficientNetB0_predIdxs, axis=1)"
   ]
  },
  {
   "cell_type": "code",
   "execution_count": 18,
   "metadata": {},
   "outputs": [
    {
     "name": "stdout",
     "output_type": "stream",
     "text": [
      "EfficientNetB0\n",
      "-------------------------------------------------------\n",
      "Accuracy : 0.5\n",
      "Misclassification: 0.5\n",
      "Sensitivity : 0.0\n",
      "Specificity : 1.0\n",
      "Precision : nan\n",
      "f1-Score : nan\n",
      "-------------------------------------------------------\n",
      "                 Predicted Negative  Predicted Positive\n",
      "Actual Negative                 599                   0\n",
      "Actual Positive                 599                   0\n"
     ]
    },
    {
     "name": "stderr",
     "output_type": "stream",
     "text": [
      "<ipython-input-5-6e7b034e0532>:18: RuntimeWarning: invalid value encountered in true_divide\n",
      "  precision = (TP / float(TP + FP))\n"
     ]
    }
   ],
   "source": [
    "print('EfficientNetB0')\n",
    "classification_result(testY.argmax(axis = 1), EfficientNetB0_predIdxs)"
   ]
  },
  {
   "cell_type": "code",
   "execution_count": null,
   "metadata": {},
   "outputs": [
    {
     "name": "stdout",
     "output_type": "stream",
     "text": [
      "[INFO] training ResNet50 head...\n",
      "Epoch 1/20\n",
      "149/149 [==============================] - 403s 3s/step - loss: 0.7160 - accuracy: 0.5336 - val_loss: 0.6633 - val_accuracy: 0.6694\n",
      "Epoch 2/20\n",
      "149/149 [==============================] - 399s 3s/step - loss: 0.6709 - accuracy: 0.5803 - val_loss: 0.6441 - val_accuracy: 0.6861\n",
      "Epoch 3/20\n",
      "149/149 [==============================] - 373s 3s/step - loss: 0.6533 - accuracy: 0.6427 - val_loss: 0.6269 - val_accuracy: 0.7379\n",
      "Epoch 4/20\n",
      "149/149 [==============================] - 393s 3s/step - loss: 0.6415 - accuracy: 0.6629 - val_loss: 0.6100 - val_accuracy: 0.7654\n",
      "Epoch 5/20\n",
      "149/149 [==============================] - 389s 3s/step - loss: 0.6300 - accuracy: 0.6696 - val_loss: 0.5969 - val_accuracy: 0.7571\n",
      "Epoch 6/20\n",
      "149/149 [==============================] - 391s 3s/step - loss: 0.6210 - accuracy: 0.6847 - val_loss: 0.5860 - val_accuracy: 0.7120\n",
      "Epoch 7/20\n",
      "149/149 [==============================] - 387s 3s/step - loss: 0.6111 - accuracy: 0.7009 - val_loss: 0.5706 - val_accuracy: 0.7663\n",
      "Epoch 8/20\n",
      "149/149 [==============================] - 383s 3s/step - loss: 0.6034 - accuracy: 0.7003 - val_loss: 0.5552 - val_accuracy: 0.7629\n",
      "Epoch 9/20\n",
      "147/149 [============================>.] - ETA: 4s - loss: 0.5973 - accuracy: 0.7105"
     ]
    }
   ],
   "source": [
    "# train the head of the network\n",
    "print(\"[INFO] training ResNet50 head...\")\n",
    "ResNet50_hist = models[\"ResNet50\"][\"model\"].fit(\n",
    "    imageDataGenerate.flow(trainX, trainY, batch_size = BS),\n",
    "    steps_per_epoch = len(trainX) // BS,\n",
    "    validation_data = (testX, testY),\n",
    "    validation_steps = len(testX) // BS,\n",
    "    epochs = EPOCHS)\n",
    "print(\"[INFO] Completed!\")"
   ]
  },
  {
   "cell_type": "code",
   "execution_count": null,
   "metadata": {},
   "outputs": [],
   "source": [
    "plot_hist(ResNet50_hist)"
   ]
  },
  {
   "cell_type": "code",
   "execution_count": null,
   "metadata": {},
   "outputs": [],
   "source": [
    "# make predictions on the testing set\n",
    "print(\"[INFO] evaluating network...\")\n",
    "ResNet50_predIdxs = models[\"ResNet50\"][\"model\"].predict(testX, batch_size=BS)\n",
    "print(\"[INFO] Completed!\")\n",
    "\n",
    "# for each image in the testing set we need to find the index of the\n",
    "# label with corresponding largest predicted probability\n",
    "ResNet50_predIdxs = np.argmax(ResNet50_predIdxs, axis=1)"
   ]
  },
  {
   "cell_type": "code",
   "execution_count": null,
   "metadata": {},
   "outputs": [],
   "source": [
    "print('ResNet50')\n",
    "classification_result(testY.argmax(axis = 1), ResNet50_predIdxs)"
   ]
  },
  {
   "cell_type": "code",
   "execution_count": null,
   "metadata": {},
   "outputs": [],
   "source": [
    "# serialize the model to disk\n",
    "print(\"[INFO] saving mask detector model...\")\n",
    "models[\"MobileNetV2\"][\"model\"].save(\"./model/MobileNetV2_face_mask_detector_without_SR.model\", save_format = \"h5\")\n",
    "models[\"EfficientNetB0\"][\"model\"].save(\"./model/EfficientNetB0_face_mask_detector_without_SR.model\", save_format = \"h5\")\n",
    "models[\"ResNet50\"][\"model\"].save(\"./model/ResNet50_face_mask_detector_without_SR.model\", save_format = \"h5\")"
   ]
  },
  {
   "cell_type": "code",
   "execution_count": null,
   "metadata": {},
   "outputs": [],
   "source": []
  }
 ],
 "metadata": {
  "kernelspec": {
   "display_name": "Python 3",
   "language": "python",
   "name": "python3"
  },
  "language_info": {
   "codemirror_mode": {
    "name": "ipython",
    "version": 3
   },
   "file_extension": ".py",
   "mimetype": "text/x-python",
   "name": "python",
   "nbconvert_exporter": "python",
   "pygments_lexer": "ipython3",
   "version": "3.8.5"
  }
 },
 "nbformat": 4,
 "nbformat_minor": 4
}
