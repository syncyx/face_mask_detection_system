{
 "cells": [
  {
   "cell_type": "code",
   "execution_count": 1,
   "metadata": {},
   "outputs": [],
   "source": [
    "import cv2\n",
    "import numpy as np\n",
    "import pandas as pd\n",
    "\n",
    "from imutils import paths\n",
    "from matplotlib import pyplot as plt\n",
    "from tqdm.notebook import tqdm\n",
    "from sklearn.metrics import confusion_matrix\n",
    "from sklearn.model_selection import train_test_split\n",
    "from sklearn.preprocessing import LabelBinarizer\n",
    "from tensorflow.keras.applications import MobileNetV2, ResNet50, EfficientNetB0\n",
    "from tensorflow.keras.applications.mobilenet_v2 import preprocess_input\n",
    "from tensorflow.keras.layers import AveragePooling2D, Flatten, Dense, Dropout, Input\n",
    "from tensorflow.keras.models import Model\n",
    "from tensorflow.keras.optimizers import Adam\n",
    "from tensorflow.keras.preprocessing.image import load_img, img_to_array, ImageDataGenerator\n",
    "from tensorflow.keras.utils import to_categorical"
   ]
  },
  {
   "cell_type": "code",
   "execution_count": 2,
   "metadata": {},
   "outputs": [],
   "source": [
    "def load_image(path, label):\n",
    "    data = []\n",
    "    labels = []\n",
    "    \n",
    "    imagePaths = list(paths.list_images(path))\n",
    "    # loop over the image paths\n",
    "    for imagePath in tqdm(imagePaths, total = len(imagePaths), desc = label + ' image data load'):\n",
    "        # checking\n",
    "        image = cv2.imread(imagePath)\n",
    "        if type(image) is np.ndarray:\n",
    "            # load the input image (224x224) and preprocess it\n",
    "            image = load_img(imagePath, target_size = (224, 224))\n",
    "            image = img_to_array(image)\n",
    "            image = preprocess_input(image)\n",
    "\n",
    "            # update the data and labels lists, respectively\n",
    "            data.append(image)\n",
    "            labels.append(label)\n",
    "    \n",
    "    return data, labels"
   ]
  },
  {
   "cell_type": "code",
   "execution_count": 3,
   "metadata": {},
   "outputs": [],
   "source": [
    "# construct the head of the model that will be placed on top of the base model\n",
    "def createHeadModel(baseModel):\n",
    "    headModel = baseModel.output\n",
    "    headModel = AveragePooling2D(pool_size=(7, 7))(headModel)\n",
    "    headModel = Flatten(name=\"flatten\")(headModel)\n",
    "    headModel = Dense(128, activation=\"relu\")(headModel)\n",
    "    headModel = Dropout(0.5)(headModel)\n",
    "    headModel = Dense(2, activation=\"softmax\")(headModel)\n",
    "    \n",
    "    return headModel"
   ]
  },
  {
   "cell_type": "code",
   "execution_count": 4,
   "metadata": {},
   "outputs": [],
   "source": [
    "def plot_hist(hist):\n",
    "    plt.plot(hist.history[\"accuracy\"])\n",
    "    plt.plot(hist.history[\"val_accuracy\"])\n",
    "    plt.title(\"model accuracy\")\n",
    "    plt.ylabel(\"accuracy\")\n",
    "    plt.xlabel(\"epoch\")\n",
    "    plt.legend([\"train\", \"validation\"], loc=\"upper left\")\n",
    "    plt.show()"
   ]
  },
  {
   "cell_type": "code",
   "execution_count": 23,
   "metadata": {},
   "outputs": [],
   "source": [
    "def classification_result(test_Y, pred_Y):\n",
    "    cm = confusion_matrix(test_Y, pred_Y)\n",
    "    (TN, FP, FN, TP) = cm.flatten()\n",
    "\n",
    "    # calculate accuracy\n",
    "    acc = (float (TP + TN) / float(TP + TN + FP + FN))\n",
    "\n",
    "    # calculate misclassification\n",
    "    misclass = 1- acc\n",
    "\n",
    "    # calculate the sensitivity\n",
    "    sensitivity = (TP / float(TP + FN))\n",
    "\n",
    "    # calculate the specificity\n",
    "    specificity = (TN / float(TN + FP))\n",
    "\n",
    "    # calculate precision\n",
    "    precision = (TP / float(TP + FP))\n",
    "\n",
    "    # calculate f_1 score\n",
    "    f1 = 2 * ((precision * sensitivity) / (precision + sensitivity))\n",
    "\n",
    "    print('-'*55)\n",
    "    print(f'Accuracy : {round(acc, 2)}')\n",
    "    print(f'Misclassification: {round(misclass, 2)}')\n",
    "    print(f'Sensitivity : {round(sensitivity, 2)}')\n",
    "    print(f'Specificity : {round(specificity, 2)}')\n",
    "    print(f'Precision : {round(precision, 2)}')\n",
    "    print(f'f1-Score : {round(f1, 2)}')\n",
    "    print('-'*55)\n",
    "\n",
    "    # Assigning columns names\n",
    "    cm_df = pd.DataFrame(cm,\n",
    "                         columns = ['Predicted Negative', 'Predicted Positive'],\n",
    "                         index = ['Actual Negative', 'Actual Positive'])\n",
    "\n",
    "    print(cm_df)"
   ]
  },
  {
   "cell_type": "code",
   "execution_count": 6,
   "metadata": {},
   "outputs": [
    {
     "data": {
      "application/vnd.jupyter.widget-view+json": {
       "model_id": "9454079ede2347c8bdf9433769ef9e1f",
       "version_major": 2,
       "version_minor": 0
      },
      "text/plain": [
       "HBox(children=(HTML(value='with_mask image data load'), FloatProgress(value=0.0, max=2994.0), HTML(value='')))"
      ]
     },
     "metadata": {},
     "output_type": "display_data"
    },
    {
     "name": "stdout",
     "output_type": "stream",
     "text": [
      "\n"
     ]
    },
    {
     "data": {
      "application/vnd.jupyter.widget-view+json": {
       "model_id": "b77755da07a5493a9b9cf9f267d0380b",
       "version_major": 2,
       "version_minor": 0
      },
      "text/plain": [
       "HBox(children=(HTML(value='without_mask image data load'), FloatProgress(value=0.0, max=2994.0), HTML(value=''…"
      ]
     },
     "metadata": {},
     "output_type": "display_data"
    },
    {
     "name": "stdout",
     "output_type": "stream",
     "text": [
      "\n"
     ]
    }
   ],
   "source": [
    "# load SR image data\n",
    "img_data = []\n",
    "img_labels = []\n",
    "\n",
    "data, labels = load_image(r'./dataset/Image/SRGAN/with_mask', 'with_mask')\n",
    "img_data += data\n",
    "img_labels += labels\n",
    "\n",
    "data, labels = load_image(r'./dataset/Image/SRGAN/without_mask', 'without_mask')\n",
    "img_data += data\n",
    "img_labels += labels"
   ]
  },
  {
   "cell_type": "code",
   "execution_count": 7,
   "metadata": {},
   "outputs": [],
   "source": [
    "# convert the img_data and img_labels to NumPy arrays\n",
    "img_data = np.array(img_data, dtype=\"float32\")\n",
    "img_labels = np.array(img_labels)\n",
    "\n",
    "# perform one-hot encoding on the labels\n",
    "lb = LabelBinarizer()\n",
    "img_labels = lb.fit_transform(img_labels)\n",
    "img_labels = to_categorical(img_labels)"
   ]
  },
  {
   "cell_type": "code",
   "execution_count": 8,
   "metadata": {},
   "outputs": [],
   "source": [
    "# partition the data into training and testing splits using 80% of\n",
    "# the data for training and the remaining 20% for testing\n",
    "trainX, testX, trainY, testY = train_test_split(img_data, img_labels, test_size = 0.20, stratify = img_labels, random_state = 42)"
   ]
  },
  {
   "cell_type": "code",
   "execution_count": 9,
   "metadata": {},
   "outputs": [
    {
     "name": "stdout",
     "output_type": "stream",
     "text": [
      "WARNING:tensorflow:`input_shape` is undefined or non-square, or `rows` is not in [96, 128, 160, 192, 224]. Weights for input shape (224, 224) will be loaded as the default.\n",
      "[INFO] Compiling MobileNetV2 model...\n",
      "[INFO] Completed!\n",
      "[INFO] Compiling EfficientNetB0 model...\n",
      "[INFO] Completed!\n",
      "[INFO] Compiling ResNet50 model...\n",
      "[INFO] Completed!\n"
     ]
    }
   ],
   "source": [
    "models = {\n",
    "    # load the MobileNetV2 network, ensuring the head FC layer sets are left off\n",
    "    \"MobileNetV2\": {\n",
    "        \"base_model\": MobileNetV2(weights = \"imagenet\", include_top = False, input_tensor = Input(shape=(224, 224, 3))),\n",
    "        \"INIT_LR\": 1e-4,\n",
    "        \"EPOCHS\": 20,\n",
    "        \"BS\": 32,\n",
    "        \"model\": None\n",
    "    },\n",
    "    # load the EfficientNetB0 network, ensuring the head FC layer sets are left off\n",
    "    \"EfficientNetB0\": {\n",
    "        \"base_model\": EfficientNetB0(weights = \"imagenet\", include_top = False, input_tensor = Input(shape = (224, 224, 3))),\n",
    "        \"INIT_LR\": 1e-4,\n",
    "        \"EPOCHS\": 20,\n",
    "        \"BS\": 32,\n",
    "        \"model\": None\n",
    "    },\n",
    "    # load the EfficientNetB0 network, ensuring the head FC layer sets are left off\n",
    "    \"ResNet50\": {\n",
    "        \"base_model\": ResNet50(weights = \"imagenet\", include_top = False, input_tensor = Input(shape = (224, 224, 3))),\n",
    "        \"INIT_LR\": 1e-4,\n",
    "        \"EPOCHS\": 20,\n",
    "        \"BS\": 32,\n",
    "        \"model\": None\n",
    "    }\n",
    "}\n",
    "\n",
    "for model_key in models:\n",
    "    baseModel = models[model_key][\"base_model\"]\n",
    "    headModel = createHeadModel(baseModel)\n",
    "    \n",
    "    # place the head FC model on top of the base model (this will become the actual model we will train)\n",
    "    model = Model(inputs = baseModel.input, outputs = headModel)\n",
    "    \n",
    "    # loop over all layers in the base model and freeze them so they will\n",
    "    # *not* be updated during the first training process\n",
    "    for layer in baseModel.layers:\n",
    "        layer.trainable = False\n",
    "    \n",
    "    # initialize the initial learning rate, number of epochs to train for,\n",
    "    # and batch size\n",
    "    INIT_LR = models[model_key][\"INIT_LR\"]\n",
    "    EPOCHS  = models[model_key][\"EPOCHS\"]\n",
    "    BS      = models[model_key][\"BS\"]\n",
    "    \n",
    "    # compile our model\n",
    "    print(\"[INFO] Compiling\", model_key, \"model...\")\n",
    "    opt = Adam(learning_rate = INIT_LR, decay = INIT_LR / EPOCHS)\n",
    "    model.compile(loss = \"binary_crossentropy\", optimizer = opt, metrics = [\"accuracy\"])\n",
    "    models[model_key][\"model\"] = model\n",
    "    print(\"[INFO] Completed!\")"
   ]
  },
  {
   "cell_type": "code",
   "execution_count": 10,
   "metadata": {},
   "outputs": [],
   "source": [
    "# construct the training image generator for data augmentation\n",
    "imageDataGenerate = ImageDataGenerator(rotation_range = 20, \n",
    "                                       zoom_range = 0.15,\n",
    "                                       width_shift_range = 0.2,\n",
    "                                       height_shift_range = 0.2,\n",
    "                                       shear_range = 0.15,\n",
    "                                       horizontal_flip = True,\n",
    "                                       fill_mode = \"nearest\")"
   ]
  },
  {
   "cell_type": "code",
   "execution_count": 11,
   "metadata": {},
   "outputs": [
    {
     "name": "stdout",
     "output_type": "stream",
     "text": [
      "[INFO] training MobileNetV2 head...\n",
      "Epoch 1/20\n",
      "149/149 [==============================] - 133s 854ms/step - loss: 0.3049 - accuracy: 0.8964 - val_loss: 0.1116 - val_accuracy: 0.9599\n",
      "Epoch 2/20\n",
      "149/149 [==============================] - 122s 821ms/step - loss: 0.1221 - accuracy: 0.9645 - val_loss: 0.0773 - val_accuracy: 0.9775\n",
      "Epoch 3/20\n",
      "149/149 [==============================] - 122s 820ms/step - loss: 0.0884 - accuracy: 0.9725 - val_loss: 0.0654 - val_accuracy: 0.9783\n",
      "Epoch 4/20\n",
      "149/149 [==============================] - 124s 832ms/step - loss: 0.0703 - accuracy: 0.9765 - val_loss: 0.0577 - val_accuracy: 0.9800\n",
      "Epoch 5/20\n",
      "149/149 [==============================] - 122s 818ms/step - loss: 0.0639 - accuracy: 0.9781 - val_loss: 0.0551 - val_accuracy: 0.9816\n",
      "Epoch 6/20\n",
      "149/149 [==============================] - 130s 872ms/step - loss: 0.0543 - accuracy: 0.9828 - val_loss: 0.0515 - val_accuracy: 0.9841\n",
      "Epoch 7/20\n",
      "149/149 [==============================] - 134s 902ms/step - loss: 0.0561 - accuracy: 0.9834 - val_loss: 0.0487 - val_accuracy: 0.9833\n",
      "Epoch 8/20\n",
      "149/149 [==============================] - 127s 851ms/step - loss: 0.0525 - accuracy: 0.9815 - val_loss: 0.0462 - val_accuracy: 0.9833\n",
      "Epoch 9/20\n",
      "149/149 [==============================] - 130s 868ms/step - loss: 0.0510 - accuracy: 0.9838 - val_loss: 0.0471 - val_accuracy: 0.9850\n",
      "Epoch 10/20\n",
      "149/149 [==============================] - 133s 893ms/step - loss: 0.0442 - accuracy: 0.9849 - val_loss: 0.0452 - val_accuracy: 0.9850\n",
      "Epoch 11/20\n",
      "149/149 [==============================] - 130s 872ms/step - loss: 0.0425 - accuracy: 0.9859 - val_loss: 0.0413 - val_accuracy: 0.9875\n",
      "Epoch 12/20\n",
      "149/149 [==============================] - 123s 826ms/step - loss: 0.0428 - accuracy: 0.9859 - val_loss: 0.0427 - val_accuracy: 0.9850\n",
      "Epoch 13/20\n",
      "149/149 [==============================] - 128s 861ms/step - loss: 0.0396 - accuracy: 0.9868 - val_loss: 0.0381 - val_accuracy: 0.9875\n",
      "Epoch 14/20\n",
      "149/149 [==============================] - 129s 864ms/step - loss: 0.0350 - accuracy: 0.9868 - val_loss: 0.0380 - val_accuracy: 0.9875\n",
      "Epoch 15/20\n",
      "149/149 [==============================] - 125s 836ms/step - loss: 0.0431 - accuracy: 0.9855 - val_loss: 0.0367 - val_accuracy: 0.9875\n",
      "Epoch 16/20\n",
      "149/149 [==============================] - 127s 850ms/step - loss: 0.0348 - accuracy: 0.9878 - val_loss: 0.0357 - val_accuracy: 0.9875\n",
      "Epoch 17/20\n",
      "149/149 [==============================] - 129s 867ms/step - loss: 0.0365 - accuracy: 0.9876 - val_loss: 0.0357 - val_accuracy: 0.9883\n",
      "Epoch 18/20\n",
      "149/149 [==============================] - 127s 850ms/step - loss: 0.0360 - accuracy: 0.9865 - val_loss: 0.0352 - val_accuracy: 0.9858\n",
      "Epoch 19/20\n",
      "149/149 [==============================] - 124s 834ms/step - loss: 0.0350 - accuracy: 0.9876 - val_loss: 0.0369 - val_accuracy: 0.9850\n",
      "Epoch 20/20\n",
      "149/149 [==============================] - 138s 927ms/step - loss: 0.0328 - accuracy: 0.9895 - val_loss: 0.0394 - val_accuracy: 0.9841\n",
      "[INFO] Completed!\n"
     ]
    }
   ],
   "source": [
    "# train the head of the network\n",
    "print(\"[INFO] training MobileNetV2 head...\")\n",
    "MobileNetV2_hist = models[\"MobileNetV2\"][\"model\"].fit(\n",
    "    imageDataGenerate.flow(trainX, trainY, batch_size = BS),\n",
    "    steps_per_epoch = len(trainX) // BS,\n",
    "    validation_data = (testX, testY),\n",
    "    validation_steps = len(testX) // BS,\n",
    "    epochs = EPOCHS)\n",
    "print(\"[INFO] Completed!\")"
   ]
  },
  {
   "cell_type": "code",
   "execution_count": 12,
   "metadata": {},
   "outputs": [
    {
     "data": {
      "image/png": "[encoded data removed]",
      "text/plain": [
       "<Figure size 432x288 with 1 Axes>"
      ]
     },
     "metadata": {
      "needs_background": "light"
     },
     "output_type": "display_data"
    }
   ],
   "source": [
    "plot_hist(MobileNetV2_hist)"
   ]
  },
  {
   "cell_type": "code",
   "execution_count": 13,
   "metadata": {},
   "outputs": [
    {
     "name": "stdout",
     "output_type": "stream",
     "text": [
      "[INFO] evaluating network...\n",
      "38/38 [==============================] - 26s 621ms/step\n",
      "[INFO] Completed!\n"
     ]
    }
   ],
   "source": [
    "# make predictions on the testing set\n",
    "print(\"[INFO] evaluating network...\")\n",
    "MobileNetV2_predIdxs = models[\"MobileNetV2\"][\"model\"].predict(testX, batch_size=BS)\n",
    "print(\"[INFO] Completed!\")\n",
    "\n",
    "# for each image in the testing set we need to find the index of the\n",
    "# label with corresponding largest predicted probability\n",
    "MobileNetV2_predIdxs = np.argmax(MobileNetV2_predIdxs, axis=1)"
   ]
  },
  {
   "cell_type": "code",
   "execution_count": 24,
   "metadata": {},
   "outputs": [
    {
     "name": "stdout",
     "output_type": "stream",
     "text": [
      "MobileNetV2\n",
      "-------------------------------------------------------\n",
      "Accuracy : 0.98\n",
      "Misclassification: 0.02\n",
      "Sensitivity : 0.97\n",
      "Specificity : 1.0\n",
      "Precision : 1.0\n",
      "f1-Score : 0.98\n",
      "-------------------------------------------------------\n",
      "                 Predicted Negative  Predicted Positive\n",
      "Actual Negative                 597                   2\n",
      "Actual Positive                  17                 582\n"
     ]
    }
   ],
   "source": [
    "print('MobileNetV2')\n",
    "classification_result(testY.argmax(axis=1), MobileNetV2_predIdxs)"
   ]
  },
  {
   "cell_type": "code",
   "execution_count": 15,
   "metadata": {},
   "outputs": [
    {
     "name": "stdout",
     "output_type": "stream",
     "text": [
      "[INFO] training EfficientNetB0 head...\n",
      "Epoch 1/20\n",
      "149/149 [==============================] - 226s 1s/step - loss: 0.6968 - accuracy: 0.5044 - val_loss: 0.6928 - val_accuracy: 0.5025\n",
      "Epoch 2/20\n",
      "149/149 [==============================] - 216s 1s/step - loss: 0.6959 - accuracy: 0.4887 - val_loss: 0.6927 - val_accuracy: 0.5050\n",
      "Epoch 3/20\n",
      "149/149 [==============================] - 212s 1s/step - loss: 0.6940 - accuracy: 0.4989 - val_loss: 0.6929 - val_accuracy: 0.5000\n",
      "Epoch 4/20\n",
      "149/149 [==============================] - 211s 1s/step - loss: 0.6935 - accuracy: 0.5076 - val_loss: 0.6930 - val_accuracy: 0.5000\n",
      "Epoch 5/20\n",
      "149/149 [==============================] - 212s 1s/step - loss: 0.6935 - accuracy: 0.4973 - val_loss: 0.6931 - val_accuracy: 0.4992\n",
      "Epoch 6/20\n",
      "149/149 [==============================] - 202s 1s/step - loss: 0.6934 - accuracy: 0.4945 - val_loss: 0.6931 - val_accuracy: 0.5000\n",
      "Epoch 7/20\n",
      "149/149 [==============================] - 202s 1s/step - loss: 0.6932 - accuracy: 0.5143 - val_loss: 0.6931 - val_accuracy: 0.5000\n",
      "Epoch 8/20\n",
      "149/149 [==============================] - 211s 1s/step - loss: 0.6931 - accuracy: 0.5013 - val_loss: 0.6931 - val_accuracy: 0.5000\n",
      "Epoch 9/20\n",
      "149/149 [==============================] - 212s 1s/step - loss: 0.6933 - accuracy: 0.5061 - val_loss: 0.6930 - val_accuracy: 0.5000\n",
      "Epoch 10/20\n",
      "149/149 [==============================] - 212s 1s/step - loss: 0.6932 - accuracy: 0.4952 - val_loss: 0.6931 - val_accuracy: 0.5075\n",
      "Epoch 11/20\n",
      "149/149 [==============================] - 204s 1s/step - loss: 0.6931 - accuracy: 0.5015 - val_loss: 0.6932 - val_accuracy: 0.5000\n",
      "Epoch 12/20\n",
      "149/149 [==============================] - 202s 1s/step - loss: 0.6934 - accuracy: 0.5000 - val_loss: 0.6931 - val_accuracy: 0.5000\n",
      "Epoch 13/20\n",
      "149/149 [==============================] - 203s 1s/step - loss: 0.6933 - accuracy: 0.4992 - val_loss: 0.6930 - val_accuracy: 0.5008\n",
      "Epoch 14/20\n",
      "149/149 [==============================] - 210s 1s/step - loss: 0.6932 - accuracy: 0.4994 - val_loss: 0.6932 - val_accuracy: 0.5000\n",
      "Epoch 15/20\n",
      "149/149 [==============================] - 208s 1s/step - loss: 0.6933 - accuracy: 0.5000 - val_loss: 0.6931 - val_accuracy: 0.5017\n",
      "Epoch 16/20\n",
      "149/149 [==============================] - 205s 1s/step - loss: 0.6931 - accuracy: 0.5065 - val_loss: 0.6931 - val_accuracy: 0.5000\n",
      "Epoch 17/20\n",
      "149/149 [==============================] - 205s 1s/step - loss: 0.6933 - accuracy: 0.4945 - val_loss: 0.6931 - val_accuracy: 0.5050\n",
      "Epoch 18/20\n",
      "149/149 [==============================] - 203s 1s/step - loss: 0.6931 - accuracy: 0.5036 - val_loss: 0.6930 - val_accuracy: 0.5067\n",
      "Epoch 19/20\n",
      "149/149 [==============================] - 207s 1s/step - loss: 0.6932 - accuracy: 0.4994 - val_loss: 0.6931 - val_accuracy: 0.5050\n",
      "Epoch 20/20\n",
      "149/149 [==============================] - 212s 1s/step - loss: 0.6932 - accuracy: 0.5044 - val_loss: 0.6930 - val_accuracy: 0.5109\n",
      "[INFO] Completed!\n"
     ]
    }
   ],
   "source": [
    "# train the head of the network\n",
    "print(\"[INFO] training EfficientNetB0 head...\")\n",
    "EfficientNetB0_hist = models[\"EfficientNetB0\"][\"model\"].fit(\n",
    "    imageDataGenerate.flow(trainX, trainY, batch_size = BS),\n",
    "    steps_per_epoch = len(trainX) // BS,\n",
    "    validation_data = (testX, testY),\n",
    "    validation_steps = len(testX) // BS,\n",
    "    epochs = EPOCHS)\n",
    "print(\"[INFO] Completed!\")"
   ]
  },
  {
   "cell_type": "code",
   "execution_count": 16,
   "metadata": {},
   "outputs": [
    {
     "data": {
      "image/png": "[encoded data removed]",
      "text/plain": [
       "<Figure size 432x288 with 1 Axes>"
      ]
     },
     "metadata": {
      "needs_background": "light"
     },
     "output_type": "display_data"
    }
   ],
   "source": [
    "plot_hist(EfficientNetB0_hist)"
   ]
  },
  {
   "cell_type": "code",
   "execution_count": 17,
   "metadata": {},
   "outputs": [
    {
     "name": "stdout",
     "output_type": "stream",
     "text": [
      "[INFO] evaluating network...\n",
      "38/38 [==============================] - 44s 1s/step\n",
      "[INFO] Completed!\n"
     ]
    }
   ],
   "source": [
    "# make predictions on the testing set\n",
    "print(\"[INFO] evaluating network...\")\n",
    "EfficientNetB0_predIdxs = models[\"EfficientNetB0\"][\"model\"].predict(testX, batch_size=BS)\n",
    "print(\"[INFO] Completed!\")\n",
    "\n",
    "# for each image in the testing set we need to find the index of the\n",
    "# label with corresponding largest predicted probability\n",
    "EfficientNetB0_predIdxs = np.argmax(EfficientNetB0_predIdxs, axis=1)"
   ]
  },
  {
   "cell_type": "code",
   "execution_count": 25,
   "metadata": {},
   "outputs": [
    {
     "name": "stdout",
     "output_type": "stream",
     "text": [
      "EfficientNetB0\n",
      "-------------------------------------------------------\n",
      "Accuracy : 0.51\n",
      "Misclassification: 0.49\n",
      "Sensitivity : 1.0\n",
      "Specificity : 0.02\n",
      "Precision : 0.51\n",
      "f1-Score : 0.67\n",
      "-------------------------------------------------------\n",
      "                 Predicted Negative  Predicted Positive\n",
      "Actual Negative                  14                 585\n",
      "Actual Positive                   1                 598\n"
     ]
    }
   ],
   "source": [
    "print('EfficientNetB0')\n",
    "classification_result(testY.argmax(axis=1), EfficientNetB0_predIdxs)"
   ]
  },
  {
   "cell_type": "code",
   "execution_count": 19,
   "metadata": {},
   "outputs": [
    {
     "name": "stdout",
     "output_type": "stream",
     "text": [
      "[INFO] training ResNet50 head...\n",
      "Epoch 1/20\n",
      "149/149 [==============================] - 378s 3s/step - loss: 0.7271 - accuracy: 0.5397 - val_loss: 0.6653 - val_accuracy: 0.5593\n",
      "Epoch 2/20\n",
      "149/149 [==============================] - 373s 3s/step - loss: 0.6705 - accuracy: 0.5963 - val_loss: 0.6415 - val_accuracy: 0.6970\n",
      "Epoch 3/20\n",
      "149/149 [==============================] - 374s 3s/step - loss: 0.6517 - accuracy: 0.6482 - val_loss: 0.6206 - val_accuracy: 0.7596\n",
      "Epoch 4/20\n",
      "149/149 [==============================] - 375s 3s/step - loss: 0.6386 - accuracy: 0.6677 - val_loss: 0.6074 - val_accuracy: 0.7621\n",
      "Epoch 5/20\n",
      "149/149 [==============================] - 377s 3s/step - loss: 0.6313 - accuracy: 0.6751 - val_loss: 0.6000 - val_accuracy: 0.7078\n",
      "Epoch 6/20\n",
      "149/149 [==============================] - 374s 3s/step - loss: 0.6205 - accuracy: 0.6816 - val_loss: 0.5775 - val_accuracy: 0.7755\n",
      "Epoch 7/20\n",
      "149/149 [==============================] - 378s 3s/step - loss: 0.6107 - accuracy: 0.6910 - val_loss: 0.5670 - val_accuracy: 0.7838\n",
      "Epoch 8/20\n",
      "149/149 [==============================] - 378s 3s/step - loss: 0.6029 - accuracy: 0.7091 - val_loss: 0.5534 - val_accuracy: 0.7905\n",
      "Epoch 9/20\n",
      "149/149 [==============================] - 377s 3s/step - loss: 0.5983 - accuracy: 0.7121 - val_loss: 0.5416 - val_accuracy: 0.7863\n",
      "Epoch 10/20\n",
      "149/149 [==============================] - 390s 3s/step - loss: 0.5827 - accuracy: 0.7259 - val_loss: 0.5299 - val_accuracy: 0.7963\n",
      "Epoch 11/20\n",
      "149/149 [==============================] - 391s 3s/step - loss: 0.5718 - accuracy: 0.7364 - val_loss: 0.5182 - val_accuracy: 0.8114\n",
      "Epoch 12/20\n",
      "149/149 [==============================] - 381s 3s/step - loss: 0.5701 - accuracy: 0.7390 - val_loss: 0.5090 - val_accuracy: 0.8088\n",
      "Epoch 13/20\n",
      "149/149 [==============================] - 371s 2s/step - loss: 0.5650 - accuracy: 0.7346 - val_loss: 0.4980 - val_accuracy: 0.8205\n",
      "Epoch 14/20\n",
      "149/149 [==============================] - 381s 3s/step - loss: 0.5541 - accuracy: 0.7453 - val_loss: 0.4985 - val_accuracy: 0.7938\n",
      "Epoch 15/20\n",
      "149/149 [==============================] - 394s 3s/step - loss: 0.5538 - accuracy: 0.7457 - val_loss: 0.4846 - val_accuracy: 0.8105\n",
      "Epoch 16/20\n",
      "149/149 [==============================] - 382s 3s/step - loss: 0.5411 - accuracy: 0.7497 - val_loss: 0.4699 - val_accuracy: 0.8297\n",
      "Epoch 17/20\n",
      "149/149 [==============================] - 371s 2s/step - loss: 0.5306 - accuracy: 0.7636 - val_loss: 0.4602 - val_accuracy: 0.8289\n",
      "Epoch 18/20\n",
      "149/149 [==============================] - 376s 3s/step - loss: 0.5215 - accuracy: 0.7675 - val_loss: 0.4527 - val_accuracy: 0.8314\n",
      "Epoch 19/20\n",
      "149/149 [==============================] - 380s 3s/step - loss: 0.5263 - accuracy: 0.7699 - val_loss: 0.4453 - val_accuracy: 0.8322\n",
      "Epoch 20/20\n",
      "149/149 [==============================] - 368s 2s/step - loss: 0.5178 - accuracy: 0.7663 - val_loss: 0.4363 - val_accuracy: 0.8322\n",
      "[INFO] Completed!\n"
     ]
    }
   ],
   "source": [
    "# train the head of the network\n",
    "print(\"[INFO] training ResNet50 head...\")\n",
    "ResNet50_hist = models[\"ResNet50\"][\"model\"].fit(\n",
    "    imageDataGenerate.flow(trainX, trainY, batch_size = BS),\n",
    "    steps_per_epoch = len(trainX) // BS,\n",
    "    validation_data = (testX, testY),\n",
    "    validation_steps = len(testX) // BS,\n",
    "    epochs = EPOCHS)\n",
    "print(\"[INFO] Completed!\")"
   ]
  },
  {
   "cell_type": "code",
   "execution_count": 20,
   "metadata": {},
   "outputs": [
    {
     "data": {
      "image/png": "[encoded data removed]",
      "text/plain": [
       "<Figure size 432x288 with 1 Axes>"
      ]
     },
     "metadata": {
      "needs_background": "light"
     },
     "output_type": "display_data"
    }
   ],
   "source": [
    "plot_hist(ResNet50_hist)"
   ]
  },
  {
   "cell_type": "code",
   "execution_count": 21,
   "metadata": {},
   "outputs": [
    {
     "name": "stdout",
     "output_type": "stream",
     "text": [
      "[INFO] evaluating network...\n",
      "38/38 [==============================] - 72s 2s/step\n",
      "[INFO] Completed!\n"
     ]
    }
   ],
   "source": [
    "# make predictions on the testing set\n",
    "print(\"[INFO] evaluating network...\")\n",
    "ResNet50_predIdxs = models[\"ResNet50\"][\"model\"].predict(testX, batch_size=BS)\n",
    "print(\"[INFO] Completed!\")\n",
    "\n",
    "# for each image in the testing set we need to find the index of the\n",
    "# label with corresponding largest predicted probability\n",
    "ResNet50_predIdxs = np.argmax(ResNet50_predIdxs, axis=1)"
   ]
  },
  {
   "cell_type": "code",
   "execution_count": 26,
   "metadata": {},
   "outputs": [
    {
     "name": "stdout",
     "output_type": "stream",
     "text": [
      "EfficientNetB0\n",
      "-------------------------------------------------------\n",
      "Accuracy : 0.83\n",
      "Misclassification: 0.17\n",
      "Sensitivity : 0.81\n",
      "Specificity : 0.85\n",
      "Precision : 0.84\n",
      "f1-Score : 0.83\n",
      "-------------------------------------------------------\n",
      "                 Predicted Negative  Predicted Positive\n",
      "Actual Negative                 509                  90\n",
      "Actual Positive                 111                 488\n"
     ]
    }
   ],
   "source": [
    "print('ResNet50')\n",
    "classification_result(testY.argmax(axis=1), ResNet50_predIdxs)"
   ]
  },
  {
   "cell_type": "code",
   "execution_count": 28,
   "metadata": {},
   "outputs": [
    {
     "name": "stdout",
     "output_type": "stream",
     "text": [
      "[INFO] saving mask detector model...\n"
     ]
    }
   ],
   "source": [
    "# serialize the model to disk\n",
    "print(\"[INFO] saving mask detector model...\")\n",
    "models[\"MobileNetV2\"][\"model\"].save(\"./model/MobileNetV2_face_mask_detector_with_SR.model\", save_format=\"h5\")\n",
    "models[\"EfficientNetB0\"][\"model\"].save(\"./model/EfficientNetB0_face_mask_detector_with_SR.model\", save_format=\"h5\")\n",
    "models[\"ResNet50\"][\"model\"].save(\"./model/ResNet50_face_mask_detector_with_SR.model\", save_format=\"h5\")"
   ]
  },
  {
   "cell_type": "code",
   "execution_count": null,
   "metadata": {},
   "outputs": [],
   "source": []
  }
 ],
 "metadata": {
  "kernelspec": {
   "display_name": "Python 3",
   "language": "python",
   "name": "python3"
  },
  "language_info": {
   "codemirror_mode": {
    "name": "ipython",
    "version": 3
   },
   "file_extension": ".py",
   "mimetype": "text/x-python",
   "name": "python",
   "nbconvert_exporter": "python",
   "pygments_lexer": "ipython3",
   "version": "3.8.5"
  }
 },
 "nbformat": 4,
 "nbformat_minor": 4
}
